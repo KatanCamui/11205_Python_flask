{
 "cells": [
  {
   "cell_type": "code",
   "execution_count": null,
   "metadata": {},
   "outputs": [],
   "source": [
    "import requests\n",
    "import pandas as pd\n",
    "import streamlit as st\n",
    "import numpy\n",
    "\n",
    "url = 'https://tcgbusfs.blob.core.windows.net/dotapp/youbike/v2/youbike_immediate.json'\n",
    "response = requests.request('GET',url)\n",
    "if response.status_code == 200:\n",
    "    print(\"連線成功\")\n",
    "    all_data = response.json()\n",
    "    print(type(all_data))\n",
    "else:\n",
    "    print(f\"連線失敗:{response.status_code}\")\n",
    "\n",
    "\n",
    "#終端執行 python Lesson_8.py\n",
    "dataFrame = pd.DataFrame(data=all_data,columns=['sna','tot','sbi','sarea','mday','ar','bemp','act'])\n",
    "\n",
    "dataFrame.columns = [\"站點名稱\",\"車數\",\"可借\",\"行政區\",\"時間\",\"地址\",\"可還\",\"狀態\"]\n",
    "dataFrame1 = dataFrame.set_index(\"站點名稱\")\n",
    "areas = dataFrame1['行政區'].unique()\n",
    "#group_data = dataFrame.groupby('行政區').sum()\n",
    "#areas = group_data.index.to_numpy().tolist()\n",
    "\n",
    "min,max = st.slider(\n",
    "    '請選擇可借的(<=數量)',\n",
    "    0, 100, (0, 100))\n",
    "\n",
    "mask = (min <=dataFrame1['可借'])  & (dataFrame1['可借'] <= max) \n",
    "mask_dataFrame = dataFrame1[mask]\n",
    "count = mask_dataFrame[\"車數\"].count()\n",
    "\n",
    "option = st.selectbox('行政區域:', areas)\n",
    "st.write('你選擇:', option)\n",
    "\n",
    "st.write(\"符合條件的站點數:\" , count)\n",
    "st.dataframe(mask_dataFrame)\n",
    "\n"
   ]
  }
 ],
 "metadata": {
  "language_info": {
   "name": "python"
  },
  "orig_nbformat": 4
 },
 "nbformat": 4,
 "nbformat_minor": 2
}
